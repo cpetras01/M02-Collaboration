{
 "cells": [
  {
   "cell_type": "code",
   "execution_count": 1,
   "id": "d4d30e34",
   "metadata": {},
   "outputs": [],
   "source": [
    "# M02 Programming Assignment - Loops and Conditionals\n",
    "# Coleman Petras\n",
    "# SDEV 220\n",
    "# This assignment is intended to show the power of loops, as well\n",
    "# conditional statements, complete problems 4.1, 4.2, 6.1, 6.2, 6.3"
   ]
  },
  {
   "cell_type": "code",
   "execution_count": 2,
   "id": "88746394",
   "metadata": {},
   "outputs": [
    {
     "name": "stdout",
     "output_type": "stream",
     "text": [
      "too low\n"
     ]
    }
   ],
   "source": [
    "# 4.1 Choose a number between 1 and 10 and assign it to the variable\n",
    "# secret\n",
    "\n",
    "secret = 7\n",
    "\n",
    "# Then, select another number between 1 and 10 and assign it to the\n",
    "# variable guess\n",
    "\n",
    "guess = 5\n",
    "\n",
    "# Next, write conditional tests (if, else, and elif) to print the \n",
    "# string 'too low' if guess is less than secret, 'too high' if \n",
    "# guess is greater than secret, and 'just right' if equal to secret\n",
    "\n",
    "if guess < secret:\n",
    "    print('too low')\n",
    "elif guess > secret:\n",
    "    print('too high')\n",
    "else:\n",
    "    print('just right')\n"
   ]
  },
  {
   "cell_type": "code",
   "execution_count": 3,
   "id": "01d53f51",
   "metadata": {},
   "outputs": [
    {
     "name": "stdout",
     "output_type": "stream",
     "text": [
      "cherry\n"
     ]
    }
   ],
   "source": [
    "# Assign True or False to the variables small and green.\n",
    "\n",
    "small = True\n",
    "green = False\n",
    "\n",
    "# Write some if/else statements to print which of these matches\n",
    "# Those choices: 'cherry, pea, watermelon, pumpkin'\n",
    "\n",
    "if small == True:\n",
    "    if green == True:\n",
    "        print('pea')\n",
    "    else:\n",
    "        print('cherry')\n",
    "else:\n",
    "    if green == True:\n",
    "        print('watermelon')\n",
    "    else:\n",
    "        print('pumpkin')"
   ]
  },
  {
   "cell_type": "code",
   "execution_count": 4,
   "id": "843a96d5",
   "metadata": {},
   "outputs": [
    {
     "name": "stdout",
     "output_type": "stream",
     "text": [
      "3\n",
      "2\n",
      "1\n",
      "0\n"
     ]
    }
   ],
   "source": [
    "# 6.1 Use a for loop to print the values of the list [3,2,1,0]\n",
    "\n",
    "for x in range(3,-1,-1):\n",
    "    print(x)"
   ]
  },
  {
   "cell_type": "code",
   "execution_count": 5,
   "id": "a035fe5b",
   "metadata": {},
   "outputs": [
    {
     "name": "stdout",
     "output_type": "stream",
     "text": [
      "too low\n",
      "too low\n",
      "too low\n",
      "too low\n",
      "too low\n",
      "too low\n",
      "found it!\n"
     ]
    }
   ],
   "source": [
    "# 6.2 Assign the value 7 to the variable 'guess_me'\n",
    "\n",
    "guess_me = 7\n",
    "\n",
    "# and the value 1 to the value number\n",
    "\n",
    "number = 1\n",
    "\n",
    "# Write a loop that compares number with guess_me. Print 'too low'\n",
    "# if number is less than guess me. If number equals guess me, print\n",
    "# 'found it!' and then exit the loop.If number is greater than\n",
    "# guess_me, print 'oops' and exit the loop. Increment number at the\n",
    "# end of the loop.\n",
    "\n",
    "while True: \n",
    "    if number < guess_me:\n",
    "        print('too low')\n",
    "    elif number == guess_me:\n",
    "        print('found it!')\n",
    "        break\n",
    "    else:\n",
    "        print('oops')\n",
    "        break\n",
    "    number +=1"
   ]
  },
  {
   "cell_type": "code",
   "execution_count": 6,
   "id": "77bca226",
   "metadata": {},
   "outputs": [
    {
     "name": "stdout",
     "output_type": "stream",
     "text": [
      "too low\n",
      "too low\n",
      "too low\n",
      "too low\n",
      "too low\n",
      "found it\n"
     ]
    }
   ],
   "source": [
    "# 6.3 Assign the value 5 to the variable guess_me\n",
    "\n",
    "guess_me = 5\n",
    "\n",
    "# Use a for loop to iterate a variabel called number over \n",
    "# range (10). If number is less than guess_me, print 'too low'.\n",
    "# If it equals guess_me, print 'found it' and then break out of\n",
    "# the for loop. If number is greater than guess_me, print 'oops'\n",
    "# and then exit the loop.\n",
    "\n",
    "for n in range(10):\n",
    "    if n < guess_me:\n",
    "        print('too low')\n",
    "    elif n == guess_me:\n",
    "        print('found it')\n",
    "        break\n",
    "    else:\n",
    "        print('oops')\n",
    "        break"
   ]
  },
  {
   "cell_type": "code",
   "execution_count": null,
   "id": "ccf54561",
   "metadata": {},
   "outputs": [],
   "source": []
  }
 ],
 "metadata": {
  "kernelspec": {
   "display_name": "Python 3 (ipykernel)",
   "language": "python",
   "name": "python3"
  },
  "language_info": {
   "codemirror_mode": {
    "name": "ipython",
    "version": 3
   },
   "file_extension": ".py",
   "mimetype": "text/x-python",
   "name": "python",
   "nbconvert_exporter": "python",
   "pygments_lexer": "ipython3",
   "version": "3.11.7"
  }
 },
 "nbformat": 4,
 "nbformat_minor": 5
}
